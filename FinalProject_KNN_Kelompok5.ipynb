{
  "nbformat": 4,
  "nbformat_minor": 0,
  "metadata": {
    "colab": {
      "provenance": [],
      "toc_visible": true,
      "mount_file_id": "1qK7j7bjdF2cD60u6EBjE2uNYva7WQjCy",
      "authorship_tag": "ABX9TyO7IkRGxT3k7TOAufCi0wKq",
      "include_colab_link": true
    },
    "kernelspec": {
      "name": "python3",
      "display_name": "Python 3"
    },
    "language_info": {
      "name": "python"
    }
  },
  "cells": [
    {
      "cell_type": "markdown",
      "metadata": {
        "id": "view-in-github",
        "colab_type": "text"
      },
      "source": [
        "<a href=\"https://colab.research.google.com/github/Amelindarenjani/ProjectMachineLearning/blob/main/FinalProject_KNN_Kelompok5.ipynb\" target=\"_parent\"><img src=\"https://colab.research.google.com/assets/colab-badge.svg\" alt=\"Open In Colab\"/></a>"
      ]
    },
    {
      "cell_type": "code",
      "source": [
        "from google.colab import drive\n",
        "drive.mount('/content/drive')"
      ],
      "metadata": {
        "colab": {
          "base_uri": "https://localhost:8080/"
        },
        "id": "NiBQ6OzK_bT8",
        "outputId": "0f913c5f-b7a0-447b-a0a3-7820d1000548"
      },
      "execution_count": null,
      "outputs": [
        {
          "output_type": "stream",
          "name": "stdout",
          "text": [
            "Drive already mounted at /content/drive; to attempt to forcibly remount, call drive.mount(\"/content/drive\", force_remount=True).\n"
          ]
        }
      ]
    },
    {
      "cell_type": "code",
      "execution_count": null,
      "metadata": {
        "id": "TxzHZgeG937b"
      },
      "outputs": [],
      "source": [
        "import pandas as pd\n",
        "import numpy as np\n",
        "from sklearn.preprocessing import LabelEncoder\n",
        "from sklearn.metrics import euclidean_distances"
      ]
    },
    {
      "cell_type": "code",
      "source": [
        "data = pd.read_excel('/content/drive/MyDrive/Semester 4/Machine Learning/Project Akhir/data_Rekrutmen.xlsx')"
      ],
      "metadata": {
        "id": "E1gHGzP99_-H"
      },
      "execution_count": null,
      "outputs": []
    },
    {
      "cell_type": "code",
      "source": [
        "# Tampilkan data\n",
        "print(\"Data:\")\n",
        "print(data)"
      ],
      "metadata": {
        "colab": {
          "base_uri": "https://localhost:8080/"
        },
        "id": "UfxH9_Ci-Cv2",
        "outputId": "bc35964e-6ad7-4221-94df-e9b25aaf72f5"
      },
      "execution_count": null,
      "outputs": [
        {
          "output_type": "stream",
          "name": "stdout",
          "text": [
            "Data:\n",
            "    Usia  IPK  Skor_Wawancara  Pengalaman_Kerja     Prediksi\n",
            "0     23  3.6              75                 2        Lolos\n",
            "1     26  3.8              82                 3        Lolos\n",
            "2     27  3.2              68                 1  Tidak Lolos\n",
            "3     22  3.0              56                 0  Tidak Lolos\n",
            "4     29  2.8              65                 2  Tidak Lolos\n",
            "5     24  3.7              72                 1        Lolos\n",
            "6     31  3.1              65                 0  Tidak Lolos\n",
            "7     25  3.8              78                 1        Lolos\n",
            "8     28  3.3              71                 1  Tidak Lolos\n",
            "9     22  2.9              69                 0  Tidak Lolos\n",
            "10    26  4.0              83                 2        Lolos\n",
            "11    27  3.2              67                 2  Tidak Lolos\n",
            "12    23  3.7              77                 1        Lolos\n",
            "13    29  3.8              81                 2        Lolos\n",
            "14    24  3.6              73                 2        Lolos\n",
            "15    30  2.6              64                 1  Tidak Lolos\n",
            "16    25  3.9              79                 2        Lolos\n",
            "17    28  3.5              70                 2  Tidak Lolos\n",
            "18    22  3.4              68                 0  Tidak Lolos\n",
            "19    26  4.0              84                 1        Lolos\n",
            "20    27  3.2              66                 1  Tidak Lolos\n",
            "21    23  3.7              74                 2        Lolos\n",
            "22    29  3.8              80                 3        Lolos\n",
            "23    24  3.9              75                 3        Lolos\n",
            "24    31  2.5              63                 0  Tidak Lolos\n",
            "25    25  2.9              76                 0  Tidak Lolos\n",
            "26    28  3.4              69                 1  Tidak Lolos\n",
            "27    22  3.8              72                 1        Lolos\n",
            "28    26  3.9              81                 3        Lolos\n",
            "29    27  3.3              65                 2  Tidak Lolos\n"
          ]
        }
      ]
    },
    {
      "cell_type": "code",
      "source": [
        "# Mengubah label 'Prediksi' menjadi numerik\n",
        "le = LabelEncoder()\n",
        "data['Prediksi'] = le.fit_transform(data['Prediksi'])\n",
        "\n",
        "# Mapping hasil LabelEncoder\n",
        "data['Prediksi'] = data['Prediksi'].map({0: 1, 1: 0})\n",
        "print(data)"
      ],
      "metadata": {
        "colab": {
          "base_uri": "https://localhost:8080/"
        },
        "id": "64Wupml3-FYX",
        "outputId": "e821eb60-289c-4ded-a5d4-4fbfd48da19a"
      },
      "execution_count": null,
      "outputs": [
        {
          "output_type": "stream",
          "name": "stdout",
          "text": [
            "    Usia  IPK  Skor_Wawancara  Pengalaman_Kerja  Prediksi\n",
            "0     23  3.6              75                 2         1\n",
            "1     26  3.8              82                 3         1\n",
            "2     27  3.2              68                 1         0\n",
            "3     22  3.0              56                 0         0\n",
            "4     29  2.8              65                 2         0\n",
            "5     24  3.7              72                 1         1\n",
            "6     31  3.1              65                 0         0\n",
            "7     25  3.8              78                 1         1\n",
            "8     28  3.3              71                 1         0\n",
            "9     22  2.9              69                 0         0\n",
            "10    26  4.0              83                 2         1\n",
            "11    27  3.2              67                 2         0\n",
            "12    23  3.7              77                 1         1\n",
            "13    29  3.8              81                 2         1\n",
            "14    24  3.6              73                 2         1\n",
            "15    30  2.6              64                 1         0\n",
            "16    25  3.9              79                 2         1\n",
            "17    28  3.5              70                 2         0\n",
            "18    22  3.4              68                 0         0\n",
            "19    26  4.0              84                 1         1\n",
            "20    27  3.2              66                 1         0\n",
            "21    23  3.7              74                 2         1\n",
            "22    29  3.8              80                 3         1\n",
            "23    24  3.9              75                 3         1\n",
            "24    31  2.5              63                 0         0\n",
            "25    25  2.9              76                 0         0\n",
            "26    28  3.4              69                 1         0\n",
            "27    22  3.8              72                 1         1\n",
            "28    26  3.9              81                 3         1\n",
            "29    27  3.3              65                 2         0\n"
          ]
        }
      ]
    },
    {
      "cell_type": "code",
      "source": [
        "# Input pengguna\n",
        "k = int(input(\"Masukkan jumlah K: \"))\n",
        "Usia = int(input(\"Masukkan usia: \"))\n",
        "IPK = float(input(\"Masukkan IPK terakhir: \"))\n",
        "Skor_wawancara = float(input(\"Masukkan skor wawancara: \"))\n",
        "Pengalaman_kerja = float(input(\"Masukan lama pengalaman kerja: \"))"
      ],
      "metadata": {
        "colab": {
          "base_uri": "https://localhost:8080/"
        },
        "id": "r-0sLRss-Koo",
        "outputId": "3563dca7-77f3-46fe-f65a-6b14d91d72e2"
      },
      "execution_count": null,
      "outputs": [
        {
          "name": "stdout",
          "output_type": "stream",
          "text": [
            "Masukkan jumlah K: 5\n",
            "Masukkan usia: 25\n",
            "Masukkan IPK terakhir: 3.5\n",
            "Masukkan skor wawancara: 70\n",
            "Masukan lama pengalaman kerja: 0\n"
          ]
        }
      ]
    },
    {
      "cell_type": "code",
      "source": [
        "# Fungsi untuk KNN\n",
        "def knn_predict_stock(data, k, features):\n",
        "    print(\"\\nLangkah 1: Hitung jarak Euclidean antara data baru dan data yang ada\")\n",
        "    data['Distance'] = euclidean_distances(data[['Usia', 'IPK', 'Skor_Wawancara','Pengalaman_Kerja']], [features]).reshape(-1)\n",
        "    print(data[['Usia', 'IPK', 'Skor_Wawancara','Pengalaman_Kerja', 'Distance']])\n",
        "\n",
        "    print(\"\\nLangkah 2: Urutkan data berdasarkan jarak terkecil\")\n",
        "    sorted_data = data.sort_values(by='Distance')\n",
        "    print(sorted_data[['Usia', 'IPK', 'Skor_Wawancara','Pengalaman_Kerja', 'Distance']])\n",
        "\n",
        "    print(f\"\\nLangkah 3: Ambil {k} data terdekat\")\n",
        "    nearest_neighbors = sorted_data.head(k)\n",
        "    print(nearest_neighbors[['Usia', 'IPK', 'Skor_Wawancara','Pengalaman_Kerja','Prediksi', 'Distance']])\n",
        "\n",
        "    print(\"\\nLangkah 4: Prediksi berdasarkan suara terbanyak\")\n",
        "    prediction = nearest_neighbors['Prediksi'].mode()[0]\n",
        "    print(f\"Hasil prediksi: {prediction}\")\n",
        "\n",
        "    return prediction"
      ],
      "metadata": {
        "id": "Razii3eh-ICX"
      },
      "execution_count": null,
      "outputs": []
    },
    {
      "cell_type": "code",
      "source": [
        "# Prediksi menggunakan KNN\n",
        "features = [Usia, IPK, Skor_wawancara,Pengalaman_kerja]\n",
        "result = knn_predict_stock(data, k, features)\n",
        "print(f\"\\nPrediksi keputusan perekrutan karyawan berdasarkan data yang diberikan adalah: {result}\")"
      ],
      "metadata": {
        "colab": {
          "base_uri": "https://localhost:8080/"
        },
        "id": "vilt0oee-QCW",
        "outputId": "98a21efd-24c3-4a39-d4f2-7de1bde8878c"
      },
      "execution_count": null,
      "outputs": [
        {
          "output_type": "stream",
          "name": "stdout",
          "text": [
            "\n",
            "Langkah 1: Hitung jarak Euclidean antara data baru dan data yang ada\n",
            "    Usia  IPK  Skor_Wawancara  Pengalaman_Kerja   Distance\n",
            "0     23  3.6              75                 2   5.745433\n",
            "1     26  3.8              82                 3  12.413299\n",
            "2     27  3.2              68                 1   3.014963\n",
            "3     22  3.0              56                 0  14.326549\n",
            "4     29  2.8              65                 2   6.744627\n",
            "5     24  3.7              72                 1   2.457641\n",
            "6     31  3.1              65                 0   7.820486\n",
            "7     25  3.8              78                 1   8.067837\n",
            "8     28  3.3              71                 1   3.322650\n",
            "9     22  2.9              69                 0   3.218695\n",
            "10    26  4.0              83                 2  13.200379\n",
            "11    27  3.2              67                 2   4.134005\n",
            "12    23  3.7              77                 1   7.351190\n",
            "13    29  3.8              81                 2  11.878131\n",
            "14    24  3.6              73                 2   3.742993\n",
            "15    30  2.6              64                 1   7.925276\n",
            "16    25  3.9              79                 2   9.228218\n",
            "17    28  3.5              70                 2   3.605551\n",
            "18    22  3.4              68                 0   3.606938\n",
            "19    26  4.0              84                 1  14.080128\n",
            "20    27  3.2              66                 1   4.592385\n",
            "21    23  3.7              74                 2   4.903060\n",
            "22    29  3.8              80                 3  11.184364\n",
            "23    24  3.9              75                 3   5.929587\n",
            "24    31  2.5              63                 0   9.273618\n",
            "25    25  2.9              76                 0   6.029925\n",
            "26    28  3.4              69                 1   3.318132\n",
            "27    22  3.8              72                 1   3.753665\n",
            "28    26  3.9              81                 3  11.452511\n",
            "29    27  3.3              65                 2   5.748043\n",
            "\n",
            "Langkah 2: Urutkan data berdasarkan jarak terkecil\n",
            "    Usia  IPK  Skor_Wawancara  Pengalaman_Kerja   Distance\n",
            "5     24  3.7              72                 1   2.457641\n",
            "2     27  3.2              68                 1   3.014963\n",
            "9     22  2.9              69                 0   3.218695\n",
            "26    28  3.4              69                 1   3.318132\n",
            "8     28  3.3              71                 1   3.322650\n",
            "17    28  3.5              70                 2   3.605551\n",
            "18    22  3.4              68                 0   3.606938\n",
            "14    24  3.6              73                 2   3.742993\n",
            "27    22  3.8              72                 1   3.753665\n",
            "11    27  3.2              67                 2   4.134005\n",
            "20    27  3.2              66                 1   4.592385\n",
            "21    23  3.7              74                 2   4.903060\n",
            "0     23  3.6              75                 2   5.745433\n",
            "29    27  3.3              65                 2   5.748043\n",
            "23    24  3.9              75                 3   5.929587\n",
            "25    25  2.9              76                 0   6.029925\n",
            "4     29  2.8              65                 2   6.744627\n",
            "12    23  3.7              77                 1   7.351190\n",
            "6     31  3.1              65                 0   7.820486\n",
            "15    30  2.6              64                 1   7.925276\n",
            "7     25  3.8              78                 1   8.067837\n",
            "16    25  3.9              79                 2   9.228218\n",
            "24    31  2.5              63                 0   9.273618\n",
            "22    29  3.8              80                 3  11.184364\n",
            "28    26  3.9              81                 3  11.452511\n",
            "13    29  3.8              81                 2  11.878131\n",
            "1     26  3.8              82                 3  12.413299\n",
            "10    26  4.0              83                 2  13.200379\n",
            "19    26  4.0              84                 1  14.080128\n",
            "3     22  3.0              56                 0  14.326549\n",
            "\n",
            "Langkah 3: Ambil 5 data terdekat\n",
            "    Usia  IPK  Skor_Wawancara  Pengalaman_Kerja  Prediksi  Distance\n",
            "5     24  3.7              72                 1         1  2.457641\n",
            "2     27  3.2              68                 1         0  3.014963\n",
            "9     22  2.9              69                 0         0  3.218695\n",
            "26    28  3.4              69                 1         0  3.318132\n",
            "8     28  3.3              71                 1         0  3.322650\n",
            "\n",
            "Langkah 4: Prediksi berdasarkan suara terbanyak\n",
            "Hasil prediksi: 0\n",
            "\n",
            "Prediksi keputusan perekrutan karyawan berdasarkan data yang diberikan adalah: 0\n"
          ]
        }
      ]
    }
  ]
}